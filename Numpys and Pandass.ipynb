{
 "cells": [
  {
   "cell_type": "code",
   "execution_count": 2,
   "id": "a43fc159",
   "metadata": {},
   "outputs": [],
   "source": [
    "import numpy as np\n",
    "import pandas as pd"
   ]
  },
  {
   "cell_type": "markdown",
   "id": "7a4d02ee",
   "metadata": {},
   "source": [
    "1. Create a nested list which contains the name,age and race of 10 people each. Turn this list to a dataframe."
   ]
  },
  {
   "cell_type": "code",
   "execution_count": 3,
   "id": "338af123",
   "metadata": {},
   "outputs": [
    {
     "name": "stdout",
     "output_type": "stream",
     "text": [
      "        0   1              2\n",
      "0    Rita  25  SouthAmerican\n",
      "1  Andrew  30  NorthAmerican\n",
      "2    Yomi  45        African\n",
      "3    Emmy  30    Austrialian\n",
      "4   Nandy  18          Asian\n",
      "5   Karan  20          Asian\n",
      "6   Faith  25  NorthAmerican\n",
      "7     Joe  30  NorthAmerican\n",
      "8    Josy  27          Asian\n",
      "9    Deja  28        African\n"
     ]
    }
   ],
   "source": [
    "#Turning a list into a dataframe\n",
    "data = [[\"Rita\",25,\"SouthAmerican\"],[\"Andrew\",30,\"NorthAmerican\"],[\"Yomi\",45,\"African\"],[\"Emmy\",30,\"Austrialian\"],\\\n",
    "        [\"Nandy\",18,\"Asian\"],[\"Karan\",20,\"Asian\"],[\"Faith\",25,\"NorthAmerican\"],[\"Joe\",30,\"NorthAmerican\"],[\"Josy\",27,\"Asian\"],\\\n",
    "        [\"Deja\",28,\"African\"]]\n",
    "df = pd.DataFrame(data)\n",
    "print(df)"
   ]
  },
  {
   "cell_type": "markdown",
   "id": "e8a78c29",
   "metadata": {},
   "source": [
    "2. Label the columns with the appropriate column names."
   ]
  },
  {
   "cell_type": "code",
   "execution_count": 4,
   "id": "e2e07c97",
   "metadata": {},
   "outputs": [
    {
     "data": {
      "text/html": [
       "<div>\n",
       "<style scoped>\n",
       "    .dataframe tbody tr th:only-of-type {\n",
       "        vertical-align: middle;\n",
       "    }\n",
       "\n",
       "    .dataframe tbody tr th {\n",
       "        vertical-align: top;\n",
       "    }\n",
       "\n",
       "    .dataframe thead th {\n",
       "        text-align: right;\n",
       "    }\n",
       "</style>\n",
       "<table border=\"1\" class=\"dataframe\">\n",
       "  <thead>\n",
       "    <tr style=\"text-align: right;\">\n",
       "      <th></th>\n",
       "      <th>Name</th>\n",
       "      <th>Age</th>\n",
       "      <th>Race</th>\n",
       "    </tr>\n",
       "  </thead>\n",
       "  <tbody>\n",
       "    <tr>\n",
       "      <th>0</th>\n",
       "      <td>Rita</td>\n",
       "      <td>25</td>\n",
       "      <td>SouthAmerican</td>\n",
       "    </tr>\n",
       "    <tr>\n",
       "      <th>1</th>\n",
       "      <td>Andrew</td>\n",
       "      <td>30</td>\n",
       "      <td>NorthAmerican</td>\n",
       "    </tr>\n",
       "    <tr>\n",
       "      <th>2</th>\n",
       "      <td>Yomi</td>\n",
       "      <td>45</td>\n",
       "      <td>African</td>\n",
       "    </tr>\n",
       "    <tr>\n",
       "      <th>3</th>\n",
       "      <td>Emmy</td>\n",
       "      <td>30</td>\n",
       "      <td>Austrialian</td>\n",
       "    </tr>\n",
       "    <tr>\n",
       "      <th>4</th>\n",
       "      <td>Nandy</td>\n",
       "      <td>18</td>\n",
       "      <td>Asian</td>\n",
       "    </tr>\n",
       "    <tr>\n",
       "      <th>5</th>\n",
       "      <td>Karan</td>\n",
       "      <td>20</td>\n",
       "      <td>Asian</td>\n",
       "    </tr>\n",
       "    <tr>\n",
       "      <th>6</th>\n",
       "      <td>Faith</td>\n",
       "      <td>25</td>\n",
       "      <td>NorthAmerican</td>\n",
       "    </tr>\n",
       "    <tr>\n",
       "      <th>7</th>\n",
       "      <td>Joe</td>\n",
       "      <td>30</td>\n",
       "      <td>NorthAmerican</td>\n",
       "    </tr>\n",
       "    <tr>\n",
       "      <th>8</th>\n",
       "      <td>Josy</td>\n",
       "      <td>27</td>\n",
       "      <td>Asian</td>\n",
       "    </tr>\n",
       "    <tr>\n",
       "      <th>9</th>\n",
       "      <td>Deja</td>\n",
       "      <td>28</td>\n",
       "      <td>African</td>\n",
       "    </tr>\n",
       "  </tbody>\n",
       "</table>\n",
       "</div>"
      ],
      "text/plain": [
       "     Name  Age           Race\n",
       "0    Rita   25  SouthAmerican\n",
       "1  Andrew   30  NorthAmerican\n",
       "2    Yomi   45        African\n",
       "3    Emmy   30    Austrialian\n",
       "4   Nandy   18          Asian\n",
       "5   Karan   20          Asian\n",
       "6   Faith   25  NorthAmerican\n",
       "7     Joe   30  NorthAmerican\n",
       "8    Josy   27          Asian\n",
       "9    Deja   28        African"
      ]
     },
     "execution_count": 4,
     "metadata": {},
     "output_type": "execute_result"
    }
   ],
   "source": [
    "#To add headers to the columns.\n",
    "df.columns = [\"Name\",\"Age\",\"Race\"]\n",
    "df"
   ]
  },
  {
   "cell_type": "markdown",
   "id": "7f68cd45",
   "metadata": {},
   "source": [
    "3. Add a new column to your dataframe called weight and enter values for it."
   ]
  },
  {
   "cell_type": "code",
   "execution_count": 5,
   "id": "e836f2c2",
   "metadata": {
    "scrolled": true
   },
   "outputs": [
    {
     "data": {
      "text/html": [
       "<div>\n",
       "<style scoped>\n",
       "    .dataframe tbody tr th:only-of-type {\n",
       "        vertical-align: middle;\n",
       "    }\n",
       "\n",
       "    .dataframe tbody tr th {\n",
       "        vertical-align: top;\n",
       "    }\n",
       "\n",
       "    .dataframe thead th {\n",
       "        text-align: right;\n",
       "    }\n",
       "</style>\n",
       "<table border=\"1\" class=\"dataframe\">\n",
       "  <thead>\n",
       "    <tr style=\"text-align: right;\">\n",
       "      <th></th>\n",
       "      <th>Name</th>\n",
       "      <th>Age</th>\n",
       "      <th>Race</th>\n",
       "      <th>Weight(kg)</th>\n",
       "    </tr>\n",
       "  </thead>\n",
       "  <tbody>\n",
       "    <tr>\n",
       "      <th>0</th>\n",
       "      <td>Rita</td>\n",
       "      <td>25</td>\n",
       "      <td>SouthAmerican</td>\n",
       "      <td>65</td>\n",
       "    </tr>\n",
       "    <tr>\n",
       "      <th>1</th>\n",
       "      <td>Andrew</td>\n",
       "      <td>30</td>\n",
       "      <td>NorthAmerican</td>\n",
       "      <td>80</td>\n",
       "    </tr>\n",
       "    <tr>\n",
       "      <th>2</th>\n",
       "      <td>Yomi</td>\n",
       "      <td>45</td>\n",
       "      <td>African</td>\n",
       "      <td>100</td>\n",
       "    </tr>\n",
       "    <tr>\n",
       "      <th>3</th>\n",
       "      <td>Emmy</td>\n",
       "      <td>30</td>\n",
       "      <td>Austrialian</td>\n",
       "      <td>75</td>\n",
       "    </tr>\n",
       "    <tr>\n",
       "      <th>4</th>\n",
       "      <td>Nandy</td>\n",
       "      <td>18</td>\n",
       "      <td>Asian</td>\n",
       "      <td>80</td>\n",
       "    </tr>\n",
       "    <tr>\n",
       "      <th>5</th>\n",
       "      <td>Karan</td>\n",
       "      <td>20</td>\n",
       "      <td>Asian</td>\n",
       "      <td>55</td>\n",
       "    </tr>\n",
       "    <tr>\n",
       "      <th>6</th>\n",
       "      <td>Faith</td>\n",
       "      <td>25</td>\n",
       "      <td>NorthAmerican</td>\n",
       "      <td>78</td>\n",
       "    </tr>\n",
       "    <tr>\n",
       "      <th>7</th>\n",
       "      <td>Joe</td>\n",
       "      <td>30</td>\n",
       "      <td>NorthAmerican</td>\n",
       "      <td>80</td>\n",
       "    </tr>\n",
       "    <tr>\n",
       "      <th>8</th>\n",
       "      <td>Josy</td>\n",
       "      <td>27</td>\n",
       "      <td>Asian</td>\n",
       "      <td>100</td>\n",
       "    </tr>\n",
       "    <tr>\n",
       "      <th>9</th>\n",
       "      <td>Deja</td>\n",
       "      <td>28</td>\n",
       "      <td>African</td>\n",
       "      <td>90</td>\n",
       "    </tr>\n",
       "  </tbody>\n",
       "</table>\n",
       "</div>"
      ],
      "text/plain": [
       "     Name  Age           Race  Weight(kg)\n",
       "0    Rita   25  SouthAmerican          65\n",
       "1  Andrew   30  NorthAmerican          80\n",
       "2    Yomi   45        African         100\n",
       "3    Emmy   30    Austrialian          75\n",
       "4   Nandy   18          Asian          80\n",
       "5   Karan   20          Asian          55\n",
       "6   Faith   25  NorthAmerican          78\n",
       "7     Joe   30  NorthAmerican          80\n",
       "8    Josy   27          Asian         100\n",
       "9    Deja   28        African          90"
      ]
     },
     "execution_count": 5,
     "metadata": {},
     "output_type": "execute_result"
    }
   ],
   "source": [
    "#To add another coulmn to the dataframe\n",
    "df[\"Weight(kg)\"]=[65, 80, 100, 75, 80, 55,78,80,100,90]\n",
    "df\n"
   ]
  },
  {
   "cell_type": "markdown",
   "id": "7408ac6c",
   "metadata": {},
   "source": [
    "4. Change the name of the column from \"weight\" to \"height\""
   ]
  },
  {
   "cell_type": "code",
   "execution_count": 6,
   "id": "65308b72",
   "metadata": {},
   "outputs": [
    {
     "data": {
      "text/html": [
       "<div>\n",
       "<style scoped>\n",
       "    .dataframe tbody tr th:only-of-type {\n",
       "        vertical-align: middle;\n",
       "    }\n",
       "\n",
       "    .dataframe tbody tr th {\n",
       "        vertical-align: top;\n",
       "    }\n",
       "\n",
       "    .dataframe thead th {\n",
       "        text-align: right;\n",
       "    }\n",
       "</style>\n",
       "<table border=\"1\" class=\"dataframe\">\n",
       "  <thead>\n",
       "    <tr style=\"text-align: right;\">\n",
       "      <th></th>\n",
       "      <th>Name</th>\n",
       "      <th>Age</th>\n",
       "      <th>Race</th>\n",
       "      <th>Height</th>\n",
       "    </tr>\n",
       "  </thead>\n",
       "  <tbody>\n",
       "    <tr>\n",
       "      <th>0</th>\n",
       "      <td>Rita</td>\n",
       "      <td>25</td>\n",
       "      <td>SouthAmerican</td>\n",
       "      <td>65</td>\n",
       "    </tr>\n",
       "    <tr>\n",
       "      <th>1</th>\n",
       "      <td>Andrew</td>\n",
       "      <td>30</td>\n",
       "      <td>NorthAmerican</td>\n",
       "      <td>80</td>\n",
       "    </tr>\n",
       "    <tr>\n",
       "      <th>2</th>\n",
       "      <td>Yomi</td>\n",
       "      <td>45</td>\n",
       "      <td>African</td>\n",
       "      <td>100</td>\n",
       "    </tr>\n",
       "    <tr>\n",
       "      <th>3</th>\n",
       "      <td>Emmy</td>\n",
       "      <td>30</td>\n",
       "      <td>Austrialian</td>\n",
       "      <td>75</td>\n",
       "    </tr>\n",
       "    <tr>\n",
       "      <th>4</th>\n",
       "      <td>Nandy</td>\n",
       "      <td>18</td>\n",
       "      <td>Asian</td>\n",
       "      <td>80</td>\n",
       "    </tr>\n",
       "    <tr>\n",
       "      <th>5</th>\n",
       "      <td>Karan</td>\n",
       "      <td>20</td>\n",
       "      <td>Asian</td>\n",
       "      <td>55</td>\n",
       "    </tr>\n",
       "    <tr>\n",
       "      <th>6</th>\n",
       "      <td>Faith</td>\n",
       "      <td>25</td>\n",
       "      <td>NorthAmerican</td>\n",
       "      <td>78</td>\n",
       "    </tr>\n",
       "    <tr>\n",
       "      <th>7</th>\n",
       "      <td>Joe</td>\n",
       "      <td>30</td>\n",
       "      <td>NorthAmerican</td>\n",
       "      <td>80</td>\n",
       "    </tr>\n",
       "    <tr>\n",
       "      <th>8</th>\n",
       "      <td>Josy</td>\n",
       "      <td>27</td>\n",
       "      <td>Asian</td>\n",
       "      <td>100</td>\n",
       "    </tr>\n",
       "    <tr>\n",
       "      <th>9</th>\n",
       "      <td>Deja</td>\n",
       "      <td>28</td>\n",
       "      <td>African</td>\n",
       "      <td>90</td>\n",
       "    </tr>\n",
       "  </tbody>\n",
       "</table>\n",
       "</div>"
      ],
      "text/plain": [
       "     Name  Age           Race  Height\n",
       "0    Rita   25  SouthAmerican      65\n",
       "1  Andrew   30  NorthAmerican      80\n",
       "2    Yomi   45        African     100\n",
       "3    Emmy   30    Austrialian      75\n",
       "4   Nandy   18          Asian      80\n",
       "5   Karan   20          Asian      55\n",
       "6   Faith   25  NorthAmerican      78\n",
       "7     Joe   30  NorthAmerican      80\n",
       "8    Josy   27          Asian     100\n",
       "9    Deja   28        African      90"
      ]
     },
     "execution_count": 6,
     "metadata": {},
     "output_type": "execute_result"
    }
   ],
   "source": [
    "df = df.rename(columns= {\"Weight(kg)\":\"Height\"})\n",
    "df"
   ]
  },
  {
   "cell_type": "markdown",
   "id": "6911f48b",
   "metadata": {},
   "source": [
    "5. Change the row index to another indexing of your choice"
   ]
  },
  {
   "cell_type": "code",
   "execution_count": 7,
   "id": "2bc3559a",
   "metadata": {},
   "outputs": [
    {
     "data": {
      "text/html": [
       "<div>\n",
       "<style scoped>\n",
       "    .dataframe tbody tr th:only-of-type {\n",
       "        vertical-align: middle;\n",
       "    }\n",
       "\n",
       "    .dataframe tbody tr th {\n",
       "        vertical-align: top;\n",
       "    }\n",
       "\n",
       "    .dataframe thead th {\n",
       "        text-align: right;\n",
       "    }\n",
       "</style>\n",
       "<table border=\"1\" class=\"dataframe\">\n",
       "  <thead>\n",
       "    <tr style=\"text-align: right;\">\n",
       "      <th></th>\n",
       "      <th>Name</th>\n",
       "      <th>Age</th>\n",
       "      <th>Race</th>\n",
       "      <th>Height</th>\n",
       "    </tr>\n",
       "  </thead>\n",
       "  <tbody>\n",
       "    <tr>\n",
       "      <th>A</th>\n",
       "      <td>Rita</td>\n",
       "      <td>25</td>\n",
       "      <td>SouthAmerican</td>\n",
       "      <td>65</td>\n",
       "    </tr>\n",
       "    <tr>\n",
       "      <th>B</th>\n",
       "      <td>Andrew</td>\n",
       "      <td>30</td>\n",
       "      <td>NorthAmerican</td>\n",
       "      <td>80</td>\n",
       "    </tr>\n",
       "    <tr>\n",
       "      <th>C</th>\n",
       "      <td>Yomi</td>\n",
       "      <td>45</td>\n",
       "      <td>African</td>\n",
       "      <td>100</td>\n",
       "    </tr>\n",
       "    <tr>\n",
       "      <th>D</th>\n",
       "      <td>Emmy</td>\n",
       "      <td>30</td>\n",
       "      <td>Austrialian</td>\n",
       "      <td>75</td>\n",
       "    </tr>\n",
       "    <tr>\n",
       "      <th>E</th>\n",
       "      <td>Nandy</td>\n",
       "      <td>18</td>\n",
       "      <td>Asian</td>\n",
       "      <td>80</td>\n",
       "    </tr>\n",
       "    <tr>\n",
       "      <th>F</th>\n",
       "      <td>Karan</td>\n",
       "      <td>20</td>\n",
       "      <td>Asian</td>\n",
       "      <td>55</td>\n",
       "    </tr>\n",
       "    <tr>\n",
       "      <th>G</th>\n",
       "      <td>Faith</td>\n",
       "      <td>25</td>\n",
       "      <td>NorthAmerican</td>\n",
       "      <td>78</td>\n",
       "    </tr>\n",
       "    <tr>\n",
       "      <th>H</th>\n",
       "      <td>Joe</td>\n",
       "      <td>30</td>\n",
       "      <td>NorthAmerican</td>\n",
       "      <td>80</td>\n",
       "    </tr>\n",
       "    <tr>\n",
       "      <th>I</th>\n",
       "      <td>Josy</td>\n",
       "      <td>27</td>\n",
       "      <td>Asian</td>\n",
       "      <td>100</td>\n",
       "    </tr>\n",
       "    <tr>\n",
       "      <th>J</th>\n",
       "      <td>Deja</td>\n",
       "      <td>28</td>\n",
       "      <td>African</td>\n",
       "      <td>90</td>\n",
       "    </tr>\n",
       "  </tbody>\n",
       "</table>\n",
       "</div>"
      ],
      "text/plain": [
       "     Name  Age           Race  Height\n",
       "A    Rita   25  SouthAmerican      65\n",
       "B  Andrew   30  NorthAmerican      80\n",
       "C    Yomi   45        African     100\n",
       "D    Emmy   30    Austrialian      75\n",
       "E   Nandy   18          Asian      80\n",
       "F   Karan   20          Asian      55\n",
       "G   Faith   25  NorthAmerican      78\n",
       "H     Joe   30  NorthAmerican      80\n",
       "I    Josy   27          Asian     100\n",
       "J    Deja   28        African      90"
      ]
     },
     "execution_count": 7,
     "metadata": {},
     "output_type": "execute_result"
    }
   ],
   "source": [
    "#To change the row inedx\n",
    "\n",
    "df.index =[\"A\",\"B\",\"C\",\"D\",\"E\",\"F\",\"G\",\"H\",\"I\",\"J\"]\n",
    "df"
   ]
  },
  {
   "cell_type": "markdown",
   "id": "3a4efffb",
   "metadata": {},
   "source": [
    "6. Select/display only the age and race columns."
   ]
  },
  {
   "cell_type": "code",
   "execution_count": 8,
   "id": "56edf1d2",
   "metadata": {},
   "outputs": [
    {
     "data": {
      "text/html": [
       "<div>\n",
       "<style scoped>\n",
       "    .dataframe tbody tr th:only-of-type {\n",
       "        vertical-align: middle;\n",
       "    }\n",
       "\n",
       "    .dataframe tbody tr th {\n",
       "        vertical-align: top;\n",
       "    }\n",
       "\n",
       "    .dataframe thead th {\n",
       "        text-align: right;\n",
       "    }\n",
       "</style>\n",
       "<table border=\"1\" class=\"dataframe\">\n",
       "  <thead>\n",
       "    <tr style=\"text-align: right;\">\n",
       "      <th></th>\n",
       "      <th>Age</th>\n",
       "      <th>Race</th>\n",
       "    </tr>\n",
       "  </thead>\n",
       "  <tbody>\n",
       "    <tr>\n",
       "      <th>A</th>\n",
       "      <td>25</td>\n",
       "      <td>SouthAmerican</td>\n",
       "    </tr>\n",
       "    <tr>\n",
       "      <th>B</th>\n",
       "      <td>30</td>\n",
       "      <td>NorthAmerican</td>\n",
       "    </tr>\n",
       "    <tr>\n",
       "      <th>C</th>\n",
       "      <td>45</td>\n",
       "      <td>African</td>\n",
       "    </tr>\n",
       "    <tr>\n",
       "      <th>D</th>\n",
       "      <td>30</td>\n",
       "      <td>Austrialian</td>\n",
       "    </tr>\n",
       "    <tr>\n",
       "      <th>E</th>\n",
       "      <td>18</td>\n",
       "      <td>Asian</td>\n",
       "    </tr>\n",
       "    <tr>\n",
       "      <th>F</th>\n",
       "      <td>20</td>\n",
       "      <td>Asian</td>\n",
       "    </tr>\n",
       "    <tr>\n",
       "      <th>G</th>\n",
       "      <td>25</td>\n",
       "      <td>NorthAmerican</td>\n",
       "    </tr>\n",
       "    <tr>\n",
       "      <th>H</th>\n",
       "      <td>30</td>\n",
       "      <td>NorthAmerican</td>\n",
       "    </tr>\n",
       "    <tr>\n",
       "      <th>I</th>\n",
       "      <td>27</td>\n",
       "      <td>Asian</td>\n",
       "    </tr>\n",
       "    <tr>\n",
       "      <th>J</th>\n",
       "      <td>28</td>\n",
       "      <td>African</td>\n",
       "    </tr>\n",
       "  </tbody>\n",
       "</table>\n",
       "</div>"
      ],
      "text/plain": [
       "   Age           Race\n",
       "A   25  SouthAmerican\n",
       "B   30  NorthAmerican\n",
       "C   45        African\n",
       "D   30    Austrialian\n",
       "E   18          Asian\n",
       "F   20          Asian\n",
       "G   25  NorthAmerican\n",
       "H   30  NorthAmerican\n",
       "I   27          Asian\n",
       "J   28        African"
      ]
     },
     "execution_count": 8,
     "metadata": {},
     "output_type": "execute_result"
    }
   ],
   "source": [
    "#To display one or more columns.\n",
    "\n",
    "df.loc[\"A\":\"J\",\"Age\":\"Race\"]\n"
   ]
  },
  {
   "cell_type": "markdown",
   "id": "77f0b8d6",
   "metadata": {},
   "source": [
    "7. Select / display the first five names and their age"
   ]
  },
  {
   "cell_type": "code",
   "execution_count": 16,
   "id": "2f0c7527",
   "metadata": {},
   "outputs": [
    {
     "data": {
      "text/html": [
       "<div>\n",
       "<style scoped>\n",
       "    .dataframe tbody tr th:only-of-type {\n",
       "        vertical-align: middle;\n",
       "    }\n",
       "\n",
       "    .dataframe tbody tr th {\n",
       "        vertical-align: top;\n",
       "    }\n",
       "\n",
       "    .dataframe thead th {\n",
       "        text-align: right;\n",
       "    }\n",
       "</style>\n",
       "<table border=\"1\" class=\"dataframe\">\n",
       "  <thead>\n",
       "    <tr style=\"text-align: right;\">\n",
       "      <th></th>\n",
       "      <th>Name</th>\n",
       "      <th>Age</th>\n",
       "    </tr>\n",
       "  </thead>\n",
       "  <tbody>\n",
       "    <tr>\n",
       "      <th>A</th>\n",
       "      <td>Rita</td>\n",
       "      <td>25</td>\n",
       "    </tr>\n",
       "    <tr>\n",
       "      <th>B</th>\n",
       "      <td>Andrew</td>\n",
       "      <td>30</td>\n",
       "    </tr>\n",
       "    <tr>\n",
       "      <th>C</th>\n",
       "      <td>Yomi</td>\n",
       "      <td>45</td>\n",
       "    </tr>\n",
       "    <tr>\n",
       "      <th>D</th>\n",
       "      <td>Emmy</td>\n",
       "      <td>30</td>\n",
       "    </tr>\n",
       "    <tr>\n",
       "      <th>E</th>\n",
       "      <td>Nandy</td>\n",
       "      <td>18</td>\n",
       "    </tr>\n",
       "  </tbody>\n",
       "</table>\n",
       "</div>"
      ],
      "text/plain": [
       "     Name  Age\n",
       "A    Rita   25\n",
       "B  Andrew   30\n",
       "C    Yomi   45\n",
       "D    Emmy   30\n",
       "E   Nandy   18"
      ]
     },
     "execution_count": 16,
     "metadata": {},
     "output_type": "execute_result"
    }
   ],
   "source": [
    "#to display the first five names and their age\n",
    "df.loc[\"A\":\"E\",[\"Name\",\"Age\"]]\n"
   ]
  },
  {
   "cell_type": "markdown",
   "id": "b4793466",
   "metadata": {},
   "source": [
    "8. Select all rows but only the third column."
   ]
  },
  {
   "cell_type": "code",
   "execution_count": 12,
   "id": "894917e0",
   "metadata": {},
   "outputs": [
    {
     "data": {
      "text/plain": [
       "A    SouthAmerican\n",
       "B    NorthAmerican\n",
       "C          African\n",
       "D      Austrialian\n",
       "E            Asian\n",
       "F            Asian\n",
       "G    NorthAmerican\n",
       "H    NorthAmerican\n",
       "I            Asian\n",
       "J          African\n",
       "Name: Race, dtype: object"
      ]
     },
     "execution_count": 12,
     "metadata": {},
     "output_type": "execute_result"
    }
   ],
   "source": [
    "#selecting all rows but only the third column\n",
    "df.loc[\"A\":\"J\",\"Race\"]\n"
   ]
  },
  {
   "cell_type": "markdown",
   "id": "63fab705",
   "metadata": {},
   "source": [
    "9. Write some code to return the row index back to the default numbering before it was changed"
   ]
  },
  {
   "cell_type": "code",
   "execution_count": 19,
   "id": "e6453638",
   "metadata": {},
   "outputs": [
    {
     "data": {
      "text/html": [
       "<div>\n",
       "<style scoped>\n",
       "    .dataframe tbody tr th:only-of-type {\n",
       "        vertical-align: middle;\n",
       "    }\n",
       "\n",
       "    .dataframe tbody tr th {\n",
       "        vertical-align: top;\n",
       "    }\n",
       "\n",
       "    .dataframe thead th {\n",
       "        text-align: right;\n",
       "    }\n",
       "</style>\n",
       "<table border=\"1\" class=\"dataframe\">\n",
       "  <thead>\n",
       "    <tr style=\"text-align: right;\">\n",
       "      <th></th>\n",
       "      <th>Name</th>\n",
       "      <th>Age</th>\n",
       "      <th>Race</th>\n",
       "      <th>Height</th>\n",
       "    </tr>\n",
       "  </thead>\n",
       "  <tbody>\n",
       "    <tr>\n",
       "      <th>0</th>\n",
       "      <td>Rita</td>\n",
       "      <td>25</td>\n",
       "      <td>SouthAmerican</td>\n",
       "      <td>65</td>\n",
       "    </tr>\n",
       "    <tr>\n",
       "      <th>1</th>\n",
       "      <td>Andrew</td>\n",
       "      <td>30</td>\n",
       "      <td>NorthAmerican</td>\n",
       "      <td>80</td>\n",
       "    </tr>\n",
       "    <tr>\n",
       "      <th>2</th>\n",
       "      <td>Yomi</td>\n",
       "      <td>45</td>\n",
       "      <td>African</td>\n",
       "      <td>100</td>\n",
       "    </tr>\n",
       "    <tr>\n",
       "      <th>3</th>\n",
       "      <td>Emmy</td>\n",
       "      <td>30</td>\n",
       "      <td>Austrialian</td>\n",
       "      <td>75</td>\n",
       "    </tr>\n",
       "    <tr>\n",
       "      <th>4</th>\n",
       "      <td>Nandy</td>\n",
       "      <td>18</td>\n",
       "      <td>Asian</td>\n",
       "      <td>80</td>\n",
       "    </tr>\n",
       "    <tr>\n",
       "      <th>5</th>\n",
       "      <td>Karan</td>\n",
       "      <td>20</td>\n",
       "      <td>Asian</td>\n",
       "      <td>55</td>\n",
       "    </tr>\n",
       "    <tr>\n",
       "      <th>6</th>\n",
       "      <td>Faith</td>\n",
       "      <td>25</td>\n",
       "      <td>NorthAmerican</td>\n",
       "      <td>78</td>\n",
       "    </tr>\n",
       "    <tr>\n",
       "      <th>7</th>\n",
       "      <td>Joe</td>\n",
       "      <td>30</td>\n",
       "      <td>NorthAmerican</td>\n",
       "      <td>80</td>\n",
       "    </tr>\n",
       "    <tr>\n",
       "      <th>8</th>\n",
       "      <td>Josy</td>\n",
       "      <td>27</td>\n",
       "      <td>Asian</td>\n",
       "      <td>100</td>\n",
       "    </tr>\n",
       "    <tr>\n",
       "      <th>9</th>\n",
       "      <td>Deja</td>\n",
       "      <td>28</td>\n",
       "      <td>African</td>\n",
       "      <td>90</td>\n",
       "    </tr>\n",
       "  </tbody>\n",
       "</table>\n",
       "</div>"
      ],
      "text/plain": [
       "     Name  Age           Race  Height\n",
       "0    Rita   25  SouthAmerican      65\n",
       "1  Andrew   30  NorthAmerican      80\n",
       "2    Yomi   45        African     100\n",
       "3    Emmy   30    Austrialian      75\n",
       "4   Nandy   18          Asian      80\n",
       "5   Karan   20          Asian      55\n",
       "6   Faith   25  NorthAmerican      78\n",
       "7     Joe   30  NorthAmerican      80\n",
       "8    Josy   27          Asian     100\n",
       "9    Deja   28        African      90"
      ]
     },
     "execution_count": 19,
     "metadata": {},
     "output_type": "execute_result"
    }
   ],
   "source": [
    "df.reset_index(inplace=True,drop=True)\n",
    "df"
   ]
  },
  {
   "cell_type": "markdown",
   "id": "67d422f3",
   "metadata": {},
   "source": [
    "10. Create a dataframe from the dictionary below.Using the dataframe select books with ratings not less than 200000\n"
   ]
  },
  {
   "cell_type": "code",
   "execution_count": 22,
   "id": "11ad961d",
   "metadata": {},
   "outputs": [
    {
     "name": "stdout",
     "output_type": "stream",
     "text": [
      "                        Books  Ratings\n",
      "0                  Americanah   297972\n",
      "1        Half of a Yellow Sun   120131\n",
      "2              Purple Hibicus     5116\n",
      "3  The Thing Around Your Neck    32064\n",
      "4  We Should All Be Feminists   204882\n"
     ]
    }
   ],
   "source": [
    "#Create a dataframe from the dictionary below\n",
    "chimamda={\"Books\":[\"Americanah\",\"Half of a Yellow Sun\",\"Purple Hibicus\",\n",
    "                   \"The Thing Around Your Neck\",\"We Should All Be Feminists\"],\n",
    "         \"Ratings\":[297972,120131,5116,32064,204882]}\n",
    "chimamdaratings=pd.DataFrame(chimamda)\n",
    "print(chimamdaratings)"
   ]
  },
  {
   "cell_type": "code",
   "execution_count": 33,
   "id": "4d19d6c0",
   "metadata": {},
   "outputs": [
    {
     "data": {
      "text/plain": [
       "0                    Americanah\n",
       "4    We Should All Be Feminists\n",
       "Name: Books, dtype: object"
      ]
     },
     "execution_count": 33,
     "metadata": {},
     "output_type": "execute_result"
    }
   ],
   "source": [
    "#Using the dataframe select books with ratings not less than 200000\n",
    "chimamdaratings.loc[chimamdaratings[\"Ratings\"]>200000, \"Books\"]"
   ]
  },
  {
   "cell_type": "markdown",
   "id": "c5188649",
   "metadata": {},
   "source": [
    "11. Create a numpy array with data type boolean."
   ]
  },
  {
   "cell_type": "code",
   "execution_count": 45,
   "id": "fb60ffb8",
   "metadata": {},
   "outputs": [
    {
     "name": "stdout",
     "output_type": "stream",
     "text": [
      "[ True  True False  True  True  True False  True  True False]\n"
     ]
    }
   ],
   "source": [
    "booleanarray = np.array([10, 100.72, 0, \"Faith\", 'a',0.9,\"\",\" \",True,False], dtype=bool)\n",
    "print(booleanarray)\n"
   ]
  },
  {
   "cell_type": "markdown",
   "id": "50fc98c2",
   "metadata": {},
   "source": [
    "12. Convert the following array to an integer."
   ]
  },
  {
   "cell_type": "code",
   "execution_count": 46,
   "id": "23d367f4",
   "metadata": {},
   "outputs": [
    {
     "name": "stdout",
     "output_type": "stream",
     "text": [
      "[[1 0 0]\n",
      " [1 1 1]\n",
      " [0 0 0]]\n"
     ]
    }
   ],
   "source": [
    "#To change an array to an integer\n",
    "\n",
    "a=np.array([[True,False,False],\n",
    "           [True,True,True],\n",
    "           [False,False,False]], dtype=int)\n",
    "print(a)"
   ]
  },
  {
   "cell_type": "markdown",
   "id": "0e0dea23",
   "metadata": {},
   "source": [
    "13.Stack these numpy arrays - vertically and horizontally"
   ]
  },
  {
   "cell_type": "code",
   "execution_count": 92,
   "id": "8e10e133",
   "metadata": {},
   "outputs": [
    {
     "data": {
      "text/plain": [
       "array([[ 7,  8,  9],\n",
       "       [10, 11, 12],\n",
       "       [ 1,  2,  3],\n",
       "       [ 4,  5,  6]])"
      ]
     },
     "execution_count": 92,
     "metadata": {},
     "output_type": "execute_result"
    }
   ],
   "source": [
    "a=np.array([[7,8,9],\n",
    "           [10,11,12]])\n",
    "\n",
    "aa=np.array([[1,2,3],\n",
    "            [4,5,6]])\n",
    "\n",
    "#aaah= np.hstack((a,aa))\n",
    "aaah1= np.vstack((a,aa))\n",
    "\n",
    "aaah\n",
    "aaah1\n"
   ]
  },
  {
   "cell_type": "markdown",
   "id": "29b5b284",
   "metadata": {},
   "source": [
    "14.Create 2 3D arrays add them together to create a new array, then sort the new array."
   ]
  },
  {
   "cell_type": "code",
   "execution_count": 107,
   "id": "da12ff86",
   "metadata": {},
   "outputs": [
    {
     "name": "stdout",
     "output_type": "stream",
     "text": [
      "[[[14 10 23]\n",
      "  [21  7 28]\n",
      "  [ 8  5 27]\n",
      "  [30 34 10]]]\n"
     ]
    }
   ],
   "source": [
    "#Creating 2 3D arrays\n",
    "arr1 = np.array([[[1,9,8],[5,6,10],[7,3,2],[8,11,10]]])\n",
    "\n",
    "arr2 = np.array([[[13,1,15],[16,1,18],[1,2,25],[22,23,0]]])\n",
    "\n",
    "#adding the array\n",
    "a=((arr1 + arr2))\n",
    "\n",
    "print (a)"
   ]
  },
  {
   "cell_type": "code",
   "execution_count": 112,
   "id": "d7d5c036",
   "metadata": {},
   "outputs": [
    {
     "name": "stdout",
     "output_type": "stream",
     "text": [
      "[[[ 8  5 10]\n",
      "  [14  7 23]\n",
      "  [21 10 27]\n",
      "  [30 34 28]]]\n"
     ]
    }
   ],
   "source": [
    "#sorting the array by row\n",
    "a.sort(axis=1)\n",
    "print(a)"
   ]
  },
  {
   "cell_type": "markdown",
   "id": "a46dfbdb",
   "metadata": {},
   "source": [
    "15.Using step slicing , slice the array below from any position using 3 steps."
   ]
  },
  {
   "cell_type": "code",
   "execution_count": 124,
   "id": "2a7d30fe",
   "metadata": {},
   "outputs": [
    {
     "name": "stdout",
     "output_type": "stream",
     "text": [
      "[8 7 1 0 9 4 2 6]\n",
      "[7 1 0 9 4 2 6 3]\n",
      "[5 8]\n"
     ]
    }
   ],
   "source": [
    "a=np.array([5, 8, 7, 1, 0, 9, 4, 2, 6, 3])\n",
    "\n",
    "#Step1:Slicing from index 1 to the index 9:\n",
    "print(a[1:9])\n",
    "\n",
    "#Step 2:Slicing from index 2 to the end of the array:\n",
    "print(a[2:])\n",
    "\n",
    "#Step 3:Slicing from index 2 to the begin of the array:\n",
    "print(a[:2])"
   ]
  },
  {
   "cell_type": "code",
   "execution_count": null,
   "id": "ab17a7c7",
   "metadata": {},
   "outputs": [],
   "source": []
  },
  {
   "cell_type": "code",
   "execution_count": null,
   "id": "c6f0e638",
   "metadata": {},
   "outputs": [],
   "source": []
  },
  {
   "cell_type": "code",
   "execution_count": null,
   "id": "1d7b7d1c",
   "metadata": {},
   "outputs": [],
   "source": []
  }
 ],
 "metadata": {
  "kernelspec": {
   "display_name": "Python 3",
   "language": "python",
   "name": "python3"
  },
  "language_info": {
   "codemirror_mode": {
    "name": "ipython",
    "version": 3
   },
   "file_extension": ".py",
   "mimetype": "text/x-python",
   "name": "python",
   "nbconvert_exporter": "python",
   "pygments_lexer": "ipython3",
   "version": "3.8.8"
  }
 },
 "nbformat": 4,
 "nbformat_minor": 5
}
